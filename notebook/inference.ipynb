{
 "cells": [
  {
   "cell_type": "code",
   "execution_count": null,
   "metadata": {
    "ExecuteTime": {
     "end_time": "2018-05-27T04:57:07.032002Z",
     "start_time": "2018-05-27T04:57:06.629368Z"
    },
    "executionInfo": {
     "elapsed": 309,
     "status": "ok",
     "timestamp": 1610745179252,
     "user": {
      "displayName": "David D Diaz",
      "photoUrl": "",
      "userId": "04126922794502874183"
     },
     "user_tz": 480
    },
    "id": "jN8z_GCW3-wa"
   },
   "outputs": [],
   "source": [
    "import numpy as np\n",
    "import os\n",
    "import cv2\n",
    "import matplotlib.pyplot as plt\n",
    "from scipy import ndimage as ndi\n",
    "\n",
    "import torch\n",
    "import torch.nn.functional as F\n",
    "from torch.utils.data import DataLoader\n",
    "\n",
    "np.random.seed(0)\n",
    "%matplotlib inline"
   ]
  },
  {
   "cell_type": "code",
   "execution_count": null,
   "metadata": {
    "ExecuteTime": {
     "end_time": "2018-05-27T04:57:07.160123Z",
     "start_time": "2018-05-27T04:57:07.033161Z"
    },
    "executionInfo": {
     "elapsed": 388,
     "status": "ok",
     "timestamp": 1610746172640,
     "user": {
      "displayName": "David D Diaz",
      "photoUrl": "",
      "userId": "04126922794502874183"
     },
     "user_tz": 480
    },
    "id": "a8LxsAgF3-wi"
   },
   "outputs": [],
   "source": [
    "import sys\n",
    "sys.path.append('../src/')\n",
    "\n",
    "from model import UNet\n",
    "from dataset import SSSDataset\n",
    "from utils import gen_color_img"
   ]
  },
  {
   "cell_type": "code",
   "execution_count": null,
   "metadata": {
    "ExecuteTime": {
     "end_time": "2018-05-27T04:57:07.162719Z",
     "start_time": "2018-05-27T04:57:07.161247Z"
    },
    "executionInfo": {
     "elapsed": 318,
     "status": "ok",
     "timestamp": 1610746175634,
     "user": {
      "displayName": "David D Diaz",
      "photoUrl": "",
      "userId": "04126922794502874183"
     },
     "user_tz": 480
    },
    "id": "zyqR6IlJ3-wk"
   },
   "outputs": [],
   "source": [
    "n_sticks = 8"
   ]
  },
  {
   "cell_type": "code",
   "execution_count": null,
   "metadata": {
    "ExecuteTime": {
     "end_time": "2018-05-27T04:57:08.520020Z",
     "start_time": "2018-05-27T04:57:07.163715Z"
    },
    "id": "gr_zSE_Q3-wk"
   },
   "outputs": [],
   "source": [
    "# Model\n",
    "model = UNet().cuda()\n",
    "model.eval()\n",
    "\n",
    "MODEL_DIR = '../model'\n",
    "model_path = os.path.join(MODEL_DIR, 'model.pth')\n",
    "\n",
    "param = torch.load(model_path)\n",
    "model.load_state_dict(param)"
   ]
  },
  {
   "cell_type": "code",
   "execution_count": null,
   "metadata": {
    "ExecuteTime": {
     "end_time": "2018-05-27T04:57:08.523611Z",
     "start_time": "2018-05-27T04:57:08.521162Z"
    },
    "executionInfo": {
     "elapsed": 501,
     "status": "ok",
     "timestamp": 1610746207438,
     "user": {
      "displayName": "David D Diaz",
      "photoUrl": "",
      "userId": "04126922794502874183"
     },
     "user_tz": 480
    },
    "id": "DyfkR3rq3-wm"
   },
   "outputs": [],
   "source": [
    "# Dataset for inference\n",
    "test_dataset = SSSDataset(train=False, n_sticks=n_sticks, data_size=16)\n",
    "test_dataloader = DataLoader(test_dataset, batch_size=16,\n",
    "                             shuffle=False, num_workers=0,\n",
    "                             pin_memory=True)"
   ]
  },
  {
   "cell_type": "code",
   "execution_count": null,
   "metadata": {
    "ExecuteTime": {
     "end_time": "2018-05-27T04:57:09.803976Z",
     "start_time": "2018-05-27T04:57:08.524563Z"
    },
    "id": "el6yGVO53-wm"
   },
   "outputs": [],
   "source": [
    "# Inference\n",
    "images = []\n",
    "sem_pred = []\n",
    "ins_pred = []\n",
    "for images_ in test_dataloader:\n",
    "    images.append(images_.numpy())\n",
    "    images_ = images_.cuda()\n",
    "    sem_pred_, ins_pred_ = model(images_)\n",
    "    sem_pred.append(F.softmax(sem_pred_, dim=1).cpu().data.numpy())\n",
    "    ins_pred.append(ins_pred_.cpu().data.numpy())\n",
    "\n",
    "images = np.concatenate(images)[:, 0].astype(np.uint8)\n",
    "sem_pred = np.concatenate(sem_pred)[:, 1, :, :]\n",
    "ins_pred = np.concatenate(ins_pred)"
   ]
  },
  {
   "cell_type": "code",
   "execution_count": null,
   "metadata": {
    "ExecuteTime": {
     "end_time": "2018-05-27T04:57:09.832211Z",
     "start_time": "2018-05-27T04:57:09.805358Z"
    },
    "executionInfo": {
     "elapsed": 450,
     "status": "ok",
     "timestamp": 1610746218536,
     "user": {
      "displayName": "David D Diaz",
      "photoUrl": "",
      "userId": "04126922794502874183"
     },
     "user_tz": 480
    },
    "id": "yIeO7TTB3-wn"
   },
   "outputs": [],
   "source": [
    "# Post Processing\n",
    "p_sem_pred = []\n",
    "for sp in sem_pred:\n",
    "    p_sem_pred.append(ndi.morphology.binary_fill_holes(sp > 0.5))"
   ]
  },
  {
   "cell_type": "code",
   "execution_count": null,
   "metadata": {
    "ExecuteTime": {
     "end_time": "2018-05-27T04:57:10.482894Z",
     "start_time": "2018-05-27T04:57:09.833246Z"
    },
    "id": "NSydH0Et3-wn"
   },
   "outputs": [],
   "source": [
    "fig, axes = plt.subplots(3, 3, figsize=(15, 15))\n",
    "plt.gray()\n",
    "\n",
    "for i, ax_ in enumerate(axes):\n",
    "    color_img = gen_color_img(p_sem_pred[i], ins_pred[i], n_sticks)\n",
    "    ax_[0].imshow(images[i])\n",
    "    ax_[1].imshow(~p_sem_pred[i])\n",
    "    ax_[2].imshow(color_img)"
   ]
  }
 ],
 "metadata": {
  "accelerator": "GPU",
  "colab": {
   "collapsed_sections": [],
   "name": "inference.ipynb",
   "provenance": []
  },
  "kernelspec": {
   "display_name": "Python 3",
   "language": "python",
   "name": "python3"
  },
  "language_info": {
   "codemirror_mode": {
    "name": "ipython",
    "version": 3
   },
   "file_extension": ".py",
   "mimetype": "text/x-python",
   "name": "python",
   "nbconvert_exporter": "python",
   "pygments_lexer": "ipython3",
   "version": "3.8.5"
  },
  "toc": {
   "nav_menu": {},
   "number_sections": true,
   "sideBar": true,
   "skip_h1_title": false,
   "toc_cell": false,
   "toc_position": {},
   "toc_section_display": "block",
   "toc_window_display": false
  }
 },
 "nbformat": 4,
 "nbformat_minor": 1
}
